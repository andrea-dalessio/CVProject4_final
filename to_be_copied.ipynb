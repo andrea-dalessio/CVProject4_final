{
  "nbformat": 4,
  "nbformat_minor": 0,
  "metadata": {
    "colab": {
      "provenance": []
    },
    "kernelspec": {
      "name": "python3",
      "display_name": "Python 3"
    },
    "language_info": {
      "name": "python"
    }
  },
  "cells": [
    {
      "cell_type": "code",
      "execution_count": null,
      "metadata": {
        "id": "ZNCZqH9_Zv4L"
      },
      "outputs": [],
      "source": [
        "\n",
        "print(\"\\n--- Step 6: Monitoring Training with TensorBoard ---\")\n",
        "%load_ext tensorboard\n",
        "%tensorboard --logdir {project_name}\n",
        "print(\"TensorBoard launched. Check the output above for the link.\")"
      ]
    },
    {
      "cell_type": "code",
      "source": [
        "\n",
        "print(\"\\n--- Step 7: Analyzing Epoch-wise Metrics ---\")\n",
        "\n",
        "results_csv_path = os.path.join('runs', 'detect', run_name, 'results.csv')\n",
        "\n",
        "if os.path.exists(results_csv_path):\n",
        "    df_results = pd.read_csv(results_csv_path)\n",
        "    df_results.columns = df_results.columns.str.strip()\n",
        "\n",
        "    print(f\"Loaded metrics from: {results_csv_path}\\n\")\n",
        "\n",
        "    plt.figure(figsize=(18, 6))\n",
        "\n",
        "    plt.subplot(1, 3, 1)\n",
        "    plt.plot(df_results['epoch'], df_results['train/box_loss'], label='Train Box Loss')\n",
        "    plt.plot(df_results['epoch'], df_results['train/cls_loss'], label='Train Class Loss')\n",
        "    plt.plot(df_results['epoch'], df_results['train/dfl_loss'], label='Train DFL Loss')\n",
        "    plt.plot(df_results['epoch'], df_results['val/box_loss'], label='Val Box Loss', linestyle='--')\n",
        "    plt.plot(df_results['epoch'], df_results['val/cls_loss'], label='Val Class Loss', linestyle='--')\n",
        "    plt.plot(df_results['epoch'], df_results['val/dfl_loss'], label='Val DFL Loss', linestyle='--')\n",
        "    plt.title('Losses per Epoch')\n",
        "    plt.xlabel('Epoch')\n",
        "    plt.ylabel('Loss')\n",
        "    plt.legend()\n",
        "    plt.grid(True)\n",
        "\n",
        "    plt.subplot(1, 3, 2)\n",
        "    plt.plot(df_results['epoch'], df_results['metrics/mAP50(B)'], label='Val mAP50')\n",
        "    plt.plot(df_results['epoch'], df_results['metrics/mAP50-95(B)'], label='Val mAP50-95')\n",
        "    plt.title('Validation mAP per Epoch')\n",
        "    plt.xlabel('Epoch')\n",
        "    plt.ylabel('mAP')\n",
        "    plt.legend()\n",
        "    plt.grid(True)\n",
        "\n",
        "    plt.subplot(1, 3, 3)\n",
        "    plt.plot(df_results['epoch'], df_results['metrics/precision(B)'], label='Val Precision')\n",
        "    plt.plot(df_results['epoch'], df_results['metrics/recall(B)'], label='Val Recall')\n",
        "    plt.title('Validation Precision & Recall per Epoch')\n",
        "    plt.xlabel('Epoch')\n",
        "    plt.ylabel('Score')\n",
        "    plt.legend()\n",
        "    plt.grid(True)\n",
        "\n",
        "    plt.tight_layout()\n",
        "    plt.show()\n",
        "\n",
        "else:\n",
        "    print(f\"Error: results.csv not found at {results_csv_path}.\")\n",
        "    print(\"Please ensure the training completed successfully and check the correct run directory name.\")\n",
        "print(\"Epoch-wise metrics analysis complete.\")"
      ],
      "metadata": {
        "id": "sBSJ7PrHZ5LJ"
      },
      "execution_count": null,
      "outputs": []
    },
    {
      "cell_type": "code",
      "source": [
        "# ================================================================\n",
        "# Cell 9: Evaluate the Trained Model on the Separate Test Set\n",
        "# ================================================================\n",
        "print(\"\\n--- Step 8: Evaluating Model on Test Set ---\")\n",
        "\n",
        "best_model_path = os.path.join('runs', 'detect', run_name, 'weights', 'best.pt')\n",
        "\n",
        "if os.path.exists(best_model_path):\n",
        "    trained_model = YOLO(best_model_path)\n",
        "    print(f\"Loading best model from: {best_model_path}\")\n",
        "\n",
        "    metrics = trained_model.val(data=os.path.join(output_yolo_dir, \"data.yaml\"), split='test')\n",
        "\n",
        "    print(\"\\n--- Test Set Evaluation Metrics ---\")\n",
        "    print(f\"mAP50-95 (Test): {metrics.box.map}\")\n",
        "    print(f\"mAP50 (Test): {metrics.box.map50}\")\n",
        "    print(f\"Precision (Test): {metrics.box.mp}\")\n",
        "    print(f\"Recall (Test): {metrics.box.mr}\")\n",
        "    print(\"-----------------------------------\")\n",
        "else:\n",
        "    print(f\"Error: Best model not found at {best_model_path}. Cannot evaluate on test set.\")\n",
        "print(\"Test set evaluation complete.\")"
      ],
      "metadata": {
        "id": "LtzYjQz4aBP-"
      },
      "execution_count": null,
      "outputs": []
    },
    {
      "cell_type": "code",
      "source": [
        "# ================================================================\n",
        "# Cell 10: Visualize Predicted Bounding Boxes on Test Images\n",
        "# ================================================================\n",
        "print(\"\\n--- Step 9: Visualizing Predicted Bounding Boxes ---\")\n",
        "\n",
        "test_images_dir = os.path.join(output_yolo_dir, 'images', 'test')\n",
        "\n",
        "if not os.path.exists(test_images_dir):\n",
        "    print(f\"Error: Test images directory not found at {test_images_dir}.\")\n",
        "    print(\"Cannot perform visualization without test images.\")\n",
        "else:\n",
        "    test_image_files = [f for f in os.listdir(test_images_dir) if f.endswith(('.jpg', '.jpeg', '.png'))]\n",
        "    if not test_image_files:\n",
        "        print(f\"No image files found in {test_images_dir}. Cannot perform visualization.\")\n",
        "    else:\n",
        "        num_images_to_visualize = 5\n",
        "        selected_images = random.sample(test_image_files, min(num_images_to_visualize, len(test_image_files)))\n",
        "\n",
        "        print(f\"Visualizing detections on {len(selected_images)} random test images...\")\n",
        "\n",
        "        for img_filename in selected_images:\n",
        "            img_path = os.path.join(test_images_dir, img_filename)\n",
        "\n",
        "            print(f\"\\nProcessing image: {img_filename}\")\n",
        "\n",
        "            results = trained_model(img_path)\n",
        "\n",
        "            for r in results:\n",
        "                im_bgr = r.plot()\n",
        "                im_rgb = cv2.cvtColor(im_bgr, cv2.COLOR_BGR2RGB)\n",
        "\n",
        "                plt.figure(figsize=(15, 10))\n",
        "                plt.imshow(im_rgb)\n",
        "                plt.axis('off')\n",
        "                plt.title(f'Detected Car Plates on {img_filename}')\n",
        "                plt.show()\n",
        "\n",
        "                boxes = r.boxes.xyxy.cpu().numpy()\n",
        "                scores = r.boxes.conf.cpu().numpy()\n",
        "                class_ids = r.boxes.cls.cpu().numpy()\n",
        "\n",
        "                if len(boxes) > 0:\n",
        "                    print(f\"  Detections for {img_filename}:\")\n",
        "                    for i, box in enumerate(boxes):\n",
        "                        x1, y1, x2, y2 = map(int, box)\n",
        "                        score = scores[i]\n",
        "                        class_name = trained_model.names[int(class_ids[i])]\n",
        "                        print(f\"    - {class_name}, Confidence: {score:.2f}, Box: [{x1}, {y1}, {x2}, {y2}]\")\n",
        "                else:\n",
        "                    print(f\"  No car plates detected in {img_filename}.\")\n",
        "print(\"Visualization complete.\")\n",
        "\n",
        "print(\"\\nScript finished.\")"
      ],
      "metadata": {
        "id": "Wh1IqBPTaETg"
      },
      "execution_count": null,
      "outputs": []
    }
  ]
}